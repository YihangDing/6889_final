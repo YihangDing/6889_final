{
 "cells": [
  {
   "cell_type": "code",
   "execution_count": 1,
   "metadata": {},
   "outputs": [],
   "source": [
    "#################################load package################################\n",
    "%matplotlib inline\n",
    "import numpy as np\n",
    "import matplotlib.pyplot as plt\n",
    "import cv2\n",
    "import urllib\n",
    "from tqdm import tqdm\n",
    "import os\n",
    "#############################################################################"
   ]
  },
  {
   "cell_type": "code",
   "execution_count": 2,
   "metadata": {},
   "outputs": [],
   "source": [
    "#BASE_DIR = os.getcwd()\n",
    "#set data path\n",
    "base_dir = ''\n",
    "train_dir = os.path.join(base_dir, 'train')\n",
    "validation_dir = os.path.join(base_dir,'val')\n",
    "\n",
    "train_adult_dir = os.path.join(train_dir, 'suit_adult')\n",
    "train_none_dir = os.path.join(train_dir, 'suit_none')\n",
    "train_all_dir = os.path.join(train_dir, 'suit_all')\n",
    "\n",
    "validation_adult_dir = os.path.join(validation_dir, 'suit_adult')\n",
    "validation_none_dir = os.path.join(validation_dir, 'suit_none')\n",
    "validation_all_dir = os.path.join(validation_dir, 'suit_all')"
   ]
  },
  {
   "cell_type": "code",
   "execution_count": 2,
   "metadata": {},
   "outputs": [],
   "source": [
    "############################load image from local############################\n",
    "# img = cv2.imread('./lenna.jpg')\n",
    "# img = cv2.resize(img,(224, 224))\n",
    "# # cv2.imshow('image',img)\n",
    "# # cv2.waitKey(0)\n",
    "# # cv2.destroyAllWindows()\n",
    "# img = cv2.cvtColor(img, cv2.COLOR_BGR2RGB)\n",
    "# plt.imshow(img)\n",
    "# print(img.shape)\n",
    "# img = cv2.cvtColor(img, cv2.COLOR_RGB2BGR)\n",
    "# cv2.imwrite('1.png', img)\n",
    "#############################################################################"
   ]
  },
  {
   "cell_type": "code",
   "execution_count": 3,
   "metadata": {},
   "outputs": [
    {
     "name": "stdout",
     "output_type": "stream",
     "text": [
      "/Users/apple/Documents/ColumbiaU/6889_stream_pro/Project\r\n"
     ]
    }
   ],
   "source": [
    "! pwd"
   ]
  },
  {
   "cell_type": "code",
   "execution_count": 3,
   "metadata": {},
   "outputs": [],
   "source": [
    "############################load image from URL##############################\n",
    "def load_file(URL, label, i):\n",
    "    exception_cnt = 0\n",
    "    try:\n",
    "        req = urllib.request.urlopen(URL)\n",
    "        arr = np.asarray(bytearray(req.read()), dtype=np.uint8)\n",
    "        img = cv2.imdecode(arr, -1)\n",
    "        img = cv2.resize(img,(224, 224))\n",
    "        # get rid of 'img not exist label img'\n",
    "        if np.sum(img) <7590000 or np.sum(img) > 7593000:\n",
    "            img = cv2.cvtColor(img, cv2.COLOR_BGR2RGB)\n",
    "            # plt.imshow(img)\n",
    "            # print(img.shape)\n",
    "            img = cv2.cvtColor(img, cv2.COLOR_RGB2BGR)\n",
    "            #split data into train, val, test \n",
    "            if not int(i)%10:\n",
    "                path = 'test/'+label+i+'.jpg'\n",
    "            elif 1<= int(i)%10 <= 2:\n",
    "                path = 'val/'+label+i+'.jpg'\n",
    "            else:\n",
    "                path = 'train/'+label+i+'.jpg'\n",
    "            cv2.imwrite(path, img)\n",
    "    except Exception as e:\n",
    "        #print(e)\n",
    "        exception_cnt +=1\n",
    "    return exception_cnt\n",
    "#############################################################################"
   ]
  },
  {
   "cell_type": "code",
   "execution_count": 5,
   "metadata": {},
   "outputs": [
    {
     "name": "stderr",
     "output_type": "stream",
     "text": [
      "100%|██████████| 10000/10000 [23:14<00:00,  6.86it/s]"
     ]
    },
    {
     "name": "stdout",
     "output_type": "stream",
     "text": [
      "exc_cnt: 0\n"
     ]
    },
    {
     "name": "stderr",
     "output_type": "stream",
     "text": [
      "\n"
     ]
    }
   ],
   "source": [
    "#################################suit_none###################################\n",
    "label = 'suit_none/'\n",
    "with open('nsfw_data_scraper/raw_data/porn/urls_porn.txt') as f:\n",
    "    img_list = f.readlines()\n",
    "for i,img_url in enumerate(tqdm(img_list[:10000])):\n",
    "    exc_cnt = load_file(img_url, label, str(i))\n",
    "print('exc_cnt:',exc_cnt)\n",
    "#############################################################################"
   ]
  },
  {
   "cell_type": "code",
   "execution_count": 10,
   "metadata": {},
   "outputs": [
    {
     "name": "stderr",
     "output_type": "stream",
     "text": [
      "100%|██████████| 10000/10000 [17:37<00:00,  5.94it/s]"
     ]
    },
    {
     "name": "stdout",
     "output_type": "stream",
     "text": [
      "exc_cnt: 0\n"
     ]
    },
    {
     "name": "stderr",
     "output_type": "stream",
     "text": [
      "\n"
     ]
    }
   ],
   "source": [
    "#################################suit_adult##################################\n",
    "label = 'suit_adult/'\n",
    "with open('nsfw_data_scraper/raw_data/sexy/urls_sexy.txt') as f:\n",
    "    img_list = f.readlines()\n",
    "for i,img_url in enumerate(tqdm(img_list[:10000])):\n",
    "    exc_cnt = load_file(img_url, label, str(i))\n",
    "print('exc_cnt:',exc_cnt)\n",
    "#############################################################################"
   ]
  },
  {
   "cell_type": "code",
   "execution_count": 9,
   "metadata": {
    "scrolled": true
   },
   "outputs": [
    {
     "name": "stderr",
     "output_type": "stream",
     "text": [
      "100%|██████████| 959/959 [05:09<00:00,  1.17s/it]"
     ]
    },
    {
     "name": "stdout",
     "output_type": "stream",
     "text": [
      "exc_cnt: 0\n"
     ]
    },
    {
     "name": "stderr",
     "output_type": "stream",
     "text": [
      "\n"
     ]
    }
   ],
   "source": [
    "##################################suit_all###################################\n",
    "label = 'suit_all/'\n",
    "with open('nsfw_data_scraper/raw_data/neutral/urls_neutral.txt') as f:\n",
    "    img_list = f.readlines()\n",
    "for i,img_url in enumerate(tqdm(img_list[20001:26000])):\n",
    "    exc_cnt = load_file(img_url, label, str(i))\n",
    "print('exc_cnt:',exc_cnt)\n",
    "#############################################################################"
   ]
  },
  {
   "cell_type": "code",
   "execution_count": 5,
   "metadata": {},
   "outputs": [
    {
     "name": "stderr",
     "output_type": "stream",
     "text": [
      "100%|██████████| 10000/10000 [54:48<00:00,  3.64it/s]  "
     ]
    },
    {
     "name": "stdout",
     "output_type": "stream",
     "text": [
      "exc_cnt: 0\n"
     ]
    },
    {
     "name": "stderr",
     "output_type": "stream",
     "text": [
      "\n"
     ]
    }
   ],
   "source": [
    "###################################hentai####################################\n",
    "label = 'suit_none/'\n",
    "with open('nsfw_data_scraper/raw_data/hentai/urls_hentai.txt') as f:\n",
    "    img_list = f.readlines()\n",
    "for i,img_url in enumerate(tqdm(img_list[:10000])):\n",
    "    exc_cnt = load_file(img_url, label, str(i+10000))\n",
    "print('exc_cnt:',exc_cnt)\n",
    "#############################################################################"
   ]
  },
  {
   "cell_type": "code",
   "execution_count": 6,
   "metadata": {},
   "outputs": [
    {
     "name": "stderr",
     "output_type": "stream",
     "text": [
      "100%|██████████| 10000/10000 [43:54<00:00,  7.24it/s] "
     ]
    },
    {
     "name": "stdout",
     "output_type": "stream",
     "text": [
      "exc_cnt: 0\n"
     ]
    },
    {
     "name": "stderr",
     "output_type": "stream",
     "text": [
      "\n"
     ]
    }
   ],
   "source": [
    "##################################drawings####################################\n",
    "label = 'suit_adult/'\n",
    "with open('nsfw_data_scraper/raw_data/drawings/urls_drawings.txt') as f:\n",
    "    img_list = f.readlines()\n",
    "for i,img_url in enumerate(tqdm(img_list[:10000])):\n",
    "    exc_cnt = load_file(img_url, label, str(i+10000))\n",
    "print('exc_cnt:',exc_cnt)\n",
    "#############################################################################"
   ]
  },
  {
   "cell_type": "code",
   "execution_count": 10,
   "metadata": {},
   "outputs": [],
   "source": [
    "#explore data\n",
    "num_adult_tr = len(os.listdir(train_adult_dir))\n",
    "num_none_tr = len(os.listdir(train_none_dir))\n",
    "num_all_tr = len(os.listdir(train_all_dir))\n",
    "\n",
    "num_adult_val = len(os.listdir(validation_adult_dir))\n",
    "num_none_val = len(os.listdir(validation_none_dir))\n",
    "num_all_val = len(os.listdir(validation_all_dir))\n",
    "\n",
    "total_train = num_adult_tr + num_none_tr + num_all_tr\n",
    "total_val = num_adult_val + num_none_val + num_all_val"
   ]
  },
  {
   "cell_type": "code",
   "execution_count": 11,
   "metadata": {},
   "outputs": [
    {
     "name": "stdout",
     "output_type": "stream",
     "text": [
      "train set: 13328 13740 8804\n",
      "validation set: 3796 3925 2530\n",
      "total train set: 35872\n",
      "total val set: 10251\n"
     ]
    }
   ],
   "source": [
    "print('train set:',num_adult_tr, num_none_tr, num_all_tr)\n",
    "print('validation set:',num_adult_val, num_none_val, num_all_val)\n",
    "\n",
    "print('total train set:', total_train)\n",
    "print('total val set:', total_val)"
   ]
  },
  {
   "cell_type": "code",
   "execution_count": null,
   "metadata": {},
   "outputs": [],
   "source": []
  },
  {
   "cell_type": "code",
   "execution_count": null,
   "metadata": {},
   "outputs": [],
   "source": []
  }
 ],
 "metadata": {
  "kernelspec": {
   "display_name": "Python 3",
   "language": "python",
   "name": "python3"
  },
  "language_info": {
   "codemirror_mode": {
    "name": "ipython",
    "version": 3
   },
   "file_extension": ".py",
   "mimetype": "text/x-python",
   "name": "python",
   "nbconvert_exporter": "python",
   "pygments_lexer": "ipython3",
   "version": "3.6.6"
  }
 },
 "nbformat": 4,
 "nbformat_minor": 2
}
