{
  "nbformat": 4,
  "nbformat_minor": 0,
  "metadata": {
    "colab": {
      "name": "model_loader.ipynb",
      "version": "0.3.2",
      "provenance": [],
      "collapsed_sections": []
    },
    "kernelspec": {
      "name": "python3",
      "display_name": "Python 3"
    }
  },
  "cells": [
    {
      "cell_type": "code",
      "metadata": {
        "id": "hiqPfm_RCpUr",
        "colab_type": "code",
        "colab": {}
      },
      "source": [
        "import matplotlib.pyplot as plt\n",
        "import numpy as np\n",
        "import os\n",
        "import h5py\n",
        "import cv2\n",
        "\n",
        "import tensorflow as tf\n",
        "from tensorflow.keras.applications import VGG16,ResNet50,InceptionV3, MobileNetV2\n",
        "from tensorflow.keras.layers import Conv2D, Dense, Flatten, MaxPooling2D, Dropout, BatchNormalization\n",
        "from tensorflow.keras.models import Sequential\n",
        "from tensorflow.keras.preprocessing.image import ImageDataGenerator\n",
        "from keras.models import load_model"
      ],
      "execution_count": 0,
      "outputs": []
    },
    {
      "cell_type": "markdown",
      "metadata": {
        "id": "fKYh1WW4JdXH",
        "colab_type": "text"
      },
      "source": [
        "##NOTE: \n",
        "upload weights to this folder, then change WEIGHTS_DIR below to corresponding weights name"
      ]
    },
    {
      "cell_type": "markdown",
      "metadata": {
        "id": "fGs7mFHiDElH",
        "colab_type": "text"
      },
      "source": [
        "2 ways of loading a model:\n",
        "\n",
        "1. compile model, load weights\n",
        "\n",
        "2. load model\n",
        "\n",
        "Here we use 1st method "
      ]
    },
    {
      "cell_type": "code",
      "metadata": {
        "id": "SmBp49WKCx6q",
        "colab_type": "code",
        "colab": {}
      },
      "source": [
        "# set base_dir & model &weights path\n",
        "BASE_DIR = ''\n",
        "WEIGHTS_DIR = os.path.join(BASE_DIR, 'MobileNetV2_weights_5_10_fc3.h5')\n",
        "# MODEL_DIR = os.path.join(BASE_DIR, 'MobileNetV2_model_5_10.h5')\n",
        "CLASS_NAME = ['suit_adult','suit_none', 'suit_all']\n",
        "TARGET_SHAPE = 224"
      ],
      "execution_count": 0,
      "outputs": []
    },
    {
      "cell_type": "code",
      "metadata": {
        "id": "OMrg02VyC-4a",
        "colab_type": "code",
        "colab": {
          "base_uri": "https://localhost:8080/",
          "height": 122
        },
        "outputId": "5a30d22d-851e-4a9d-b171-21a77b6eabed"
      },
      "source": [
        "# 1. compile model, load weights\n",
        "conv_base2 = MobileNetV2(weights='imagenet',include_top=False,input_shape=(TARGET_SHAPE, TARGET_SHAPE, 3))"
      ],
      "execution_count": 6,
      "outputs": [
        {
          "output_type": "stream",
          "text": [
            "WARNING:tensorflow:From /usr/local/lib/python3.6/dist-packages/tensorflow/python/ops/resource_variable_ops.py:435: colocate_with (from tensorflow.python.framework.ops) is deprecated and will be removed in a future version.\n",
            "Instructions for updating:\n",
            "Colocations handled automatically by placer.\n",
            "Downloading data from https://github.com/JonathanCMitchell/mobilenet_v2_keras/releases/download/v1.1/mobilenet_v2_weights_tf_dim_ordering_tf_kernels_1.0_224_no_top.h5\n",
            "9412608/9406464 [==============================] - 0s 0us/step\n"
          ],
          "name": "stdout"
        }
      ]
    },
    {
      "cell_type": "code",
      "metadata": {
        "id": "1Xbq03OTDbyc",
        "colab_type": "code",
        "colab": {
          "base_uri": "https://localhost:8080/",
          "height": 88
        },
        "outputId": "140ff9f7-9cab-48b5-8a29-a5d7dc9210e7"
      },
      "source": [
        "# define model\n",
        "model2 = Sequential()\n",
        "model2.add(conv_base2)\n",
        "model2.add(Flatten())\n",
        "model2.add(Dropout(0.5))\n",
        "model2.add(Dense(64, activation=tf.nn.relu))\n",
        "# model2.add(Dropout(0.4))\n",
        "model2.add(Dense(32, activation=tf.nn.relu))\n",
        "model2.add(Dense(32, activation=tf.nn.relu))\n",
        "model2.add(Dense(3, activation='softmax'))\n",
        "\n",
        "# model2.summary()\n",
        "conv_base2.trainable=False\n",
        "\n",
        "model2.compile(optimizer='adam', \n",
        "              loss='categorical_crossentropy', \n",
        "              metrics=['accuracy'])"
      ],
      "execution_count": 7,
      "outputs": [
        {
          "output_type": "stream",
          "text": [
            "WARNING:tensorflow:From /usr/local/lib/python3.6/dist-packages/tensorflow/python/keras/layers/core.py:143: calling dropout (from tensorflow.python.ops.nn_ops) with keep_prob is deprecated and will be removed in a future version.\n",
            "Instructions for updating:\n",
            "Please use `rate` instead of `keep_prob`. Rate should be set to `rate = 1 - keep_prob`.\n"
          ],
          "name": "stdout"
        }
      ]
    },
    {
      "cell_type": "code",
      "metadata": {
        "id": "xiZuMZIPDmnR",
        "colab_type": "code",
        "colab": {}
      },
      "source": [
        "# load weights\n",
        "model2.load_weights(WEIGHTS_DIR)"
      ],
      "execution_count": 0,
      "outputs": []
    },
    {
      "cell_type": "code",
      "metadata": {
        "id": "agOVOzI3HEIj",
        "colab_type": "code",
        "colab": {}
      },
      "source": [
        "def predict_img(model2, CLASS_NAME, img):\n",
        "    # predict a image, return its class name\n",
        "    img = cv2.resize(img, (TARGET_SHAPE, TARGET_SHAPE))\n",
        "    img_pred = np.expand_dims(img,axis = 0)\n",
        "    pred = np.argmax(model2.predict(img_pred))\n",
        "    return CLASS_NAME[pred], pred"
      ],
      "execution_count": 0,
      "outputs": []
    },
    {
      "cell_type": "code",
      "metadata": {
        "id": "AMycNLGJI0mb",
        "colab_type": "code",
        "colab": {
          "base_uri": "https://localhost:8080/",
          "height": 34
        },
        "outputId": "489a3e14-f3d2-4a95-fcf6-4159f96aa384"
      },
      "source": [
        "# ------------------------------------------------\n",
        "# NOTE: REPLACE 'img' with img get from twitter\n",
        "# ------------------------------------------------\n",
        "img = cv2.imread('test_img.jpg')\n",
        "res_class, _ = predict_img(model2, CLASS_NAME, img)\n",
        "res_class"
      ],
      "execution_count": 31,
      "outputs": [
        {
          "output_type": "execute_result",
          "data": {
            "text/plain": [
              "'suit_adult'"
            ]
          },
          "metadata": {
            "tags": []
          },
          "execution_count": 31
        }
      ]
    },
    {
      "cell_type": "code",
      "metadata": {
        "id": "pQ7-WCxHJLlL",
        "colab_type": "code",
        "colab": {}
      },
      "source": [
        ""
      ],
      "execution_count": 0,
      "outputs": []
    }
  ]
}